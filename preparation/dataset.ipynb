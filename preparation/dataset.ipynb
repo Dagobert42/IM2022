{
 "cells": [
  {
   "cell_type": "code",
   "execution_count": 3,
   "metadata": {},
   "outputs": [],
   "source": [
    "import numpy as np\n",
    "import pickle\n",
    "from dataset import *\n",
    "from minetest_adapter import MinetestAdapter\n",
    "from random import choices\n",
    "import pandas as pd\n",
    "from time import sleep"
   ]
  },
  {
   "cell_type": "markdown",
   "metadata": {},
   "source": [
    "# Structures"
   ]
  },
  {
   "cell_type": "code",
   "execution_count": null,
   "metadata": {},
   "outputs": [],
   "source": [
    "with open('training_data.pkl','rb') as f:\n",
    "    trainingData = pickle.load(f)\n",
    "    \n",
    "with open('validation_data.pkl','rb') as f:\n",
    "    validationData = pickle.load(f)\n",
    "\n",
    "data = []\n",
    "for i in range(len(trainingData)):\n",
    "    data.append((trainingData[i][1], trainingData[i][2]))\n",
    "for i in range(len(validationData)):\n",
    "    data.append((validationData[i][1], validationData[i][2]))"
   ]
  },
  {
   "cell_type": "code",
   "execution_count": null,
   "metadata": {},
   "outputs": [
    {
     "name": "stdout",
     "output_type": "stream",
     "text": [
      "[[[8 8 0]\n",
      "  [0 0 0]\n",
      "  [0 0 1]]]\n",
      "['nothing', 'wall', 'none', 'windows', 'windows', 'windows', 'windows', 'windows', 'roof']\n"
     ]
    }
   ],
   "source": [
    "# testing that everything works as expected\n",
    "a = [[[1,1,2], [3,4,5], [6,7,8]]]\n",
    "b = ['nothing', 'roof', 'windows', 'windows', 'windows', 'windows', 'windows', 'none', 'wall' ]\n",
    "\n",
    "reversed_annotation = b[1:] # exclude 'nothing' from re-indexing\n",
    "reversed_annotation.reverse()\n",
    "true_annotation = ['nothing']\n",
    "true_annotation += reversed_annotation\n",
    "\n",
    "print(cleanAndReindexSegmentation(np.array(a), b))\n",
    "print(true_annotation)"
   ]
  },
  {
   "cell_type": "code",
   "execution_count": null,
   "metadata": {},
   "outputs": [],
   "source": [
    "structures = []\n",
    "for (segmentation, annotation) in data:\n",
    "    structure = cleanAndReindexSegmentation(segmentation, annotation)\n",
    "    reversed_annotation = annotation[1:] # exclude 'nothing' tag from reversal\n",
    "    reversed_annotation.reverse()\n",
    "    true_annotation = ['nothing']\n",
    "    true_annotation += reversed_annotation\n",
    "    structures.append((structure, true_annotation))\n",
    "    for n in range(1, 4):\n",
    "        structures.append((np.rot90(structure, k=n, axes=(0, 2)), true_annotation))"
   ]
  },
  {
   "cell_type": "code",
   "execution_count": null,
   "metadata": {},
   "outputs": [],
   "source": [
    "with open('structures.pkl', 'wb') as f:\n",
    "    pickle.dump(structures, f, protocol=pickle.HIGHEST_PROTOCOL)"
   ]
  },
  {
   "cell_type": "markdown",
   "metadata": {},
   "source": [
    "# Markov Chains"
   ]
  },
  {
   "cell_type": "code",
   "execution_count": null,
   "metadata": {},
   "outputs": [],
   "source": [
    "with open('structures.pkl','rb') as f:\n",
    "    structures = pickle.load(f)"
   ]
  },
  {
   "cell_type": "code",
   "execution_count": null,
   "metadata": {},
   "outputs": [],
   "source": [
    "transitionTable, segments = calculateMarkovTransitions(structures)"
   ]
  },
  {
   "cell_type": "code",
   "execution_count": null,
   "metadata": {},
   "outputs": [],
   "source": [
    "with open('transition_table.pkl', 'wb') as f:\n",
    "    pickle.dump(transitionTable, f, protocol=pickle.HIGHEST_PROTOCOL)\n",
    "\n",
    "with open('segments_dict.pkl', 'wb') as f:\n",
    "    pickle.dump(segments, f, protocol=pickle.HIGHEST_PROTOCOL)"
   ]
  },
  {
   "cell_type": "markdown",
   "metadata": {},
   "source": [
    "# Data Generation"
   ]
  },
  {
   "cell_type": "code",
   "execution_count": 4,
   "metadata": {},
   "outputs": [],
   "source": [
    "with open('transition_table.pkl','rb') as f:\n",
    "    transitionsTable = pickle.load(f)\n",
    "\n",
    "with open('segments_dict.pkl','rb') as f:\n",
    "    segmentsDict = pickle.load(f)"
   ]
  },
  {
   "cell_type": "code",
   "execution_count": 5,
   "metadata": {},
   "outputs": [
    {
     "name": "stdout",
     "output_type": "stream",
     "text": [
      "['Start', 'floor', 'floor', 'roof', 'beam', 'ledge', 'ledge', 'ledge', 'ledge', 'ledge', 'ledge', 'overhang', 'wall', 'wall', 'wall', 'wall', 'wall', 'wall', 'Done']\n",
      "Miney not connected\n"
     ]
    }
   ],
   "source": [
    "DIM = 24\n",
    "down = ['floor', 'base', 'bottom', 'ground', 'foundation']\n",
    "up = ['roof', 'top', 'layer', 'ceiling', 'ledge', 'overhang', 'platform']\n",
    "\n",
    "def getYPositioning(structure, x, z, segment, name):\n",
    "    s0, s1, s2 = segment.shape\n",
    "\n",
    "    for word in down:\n",
    "        # floor types go to the bottom\n",
    "        if name.find(word) != -1:\n",
    "            return 0, s1\n",
    "\n",
    "    for word in up:\n",
    "        # roof types go to the top\n",
    "        if name.find(word) != -1:\n",
    "            # roofs must not float\n",
    "            # find highest point in designated area\n",
    "            nonZeroIds = np.nonzero(\n",
    "                # slice the requested area\n",
    "                structure[x:x+s0, 0:DIM, z:z+s2])\n",
    "            # use the highest non-zero y index\n",
    "            if len(nonZeroIds[1]) == 0:\n",
    "                # roof part falls to the ground\n",
    "                return 1, 1+s1\n",
    "            # prevent building from clipping OOB vertically\n",
    "            h = nonZeroIds[1].max()\n",
    "            safetyClip = h + s1 - DIM if h + s1 >= DIM else 0\n",
    "            return (h - safetyClip, h + s1 - safetyClip)\n",
    "\n",
    "    # wall types stand upright on the floor\n",
    "    return 1, 1+s1\n",
    "\n",
    "def generateStructure(annotation, segmentsDict):\n",
    "    structure = np.zeros(shape=(DIM,DIM,DIM), dtype=int)\n",
    "    # init building origin somewhat randomly\n",
    "    [x, z] = choices(range(int(DIM/4)), k=2)\n",
    "    y = 0 # vertical dim in minetest\n",
    "    xDir = 1\n",
    "    zDir = 1\n",
    "    for segmentIndex, segmentName in enumerate(annotation):\n",
    "        if segmentIndex == 0 or segmentName == \"Done\":\n",
    "            continue\n",
    "        segment = choices(segmentsDict[segmentName])[0]\n",
    "        segment[segment == 1] = segmentIndex\n",
    "        s0, s1, s2 = segment.shape\n",
    "\n",
    "        # in the outer thirds of the space we invert horizontal directions\n",
    "        turnPositiveZone = list(range(int(DIM/3)))\n",
    "        turnNegativeZone = [2 * int(DIM/3) + i for i in range(int(DIM/3))]\n",
    "        xDir = 1 if x in turnPositiveZone else xDir\n",
    "        yDir = 1 if y in turnPositiveZone else yDir\n",
    "        xDir = -1 if x in turnNegativeZone else xDir\n",
    "        yDir = -1 if y in turnNegativeZone else yDir\n",
    "        # some safety constraints\n",
    "        xDir *= -1 if x+xDir*s0 >= DIM or x+xDir*s0 < 0 else 1\n",
    "        zDir *= -1 if z+zDir*s2 >= DIM or z+zDir*s2 < 0 else 1\n",
    "        nextX = x+xDir*s0\n",
    "        nextZ = z+zDir*s2\n",
    "\n",
    "        # update vertical position according to segment type\n",
    "        y, nextY = getYPositioning(structure, x, z, segment, segmentName)\n",
    "\n",
    "        try:\n",
    "            structure[x:nextX:xDir, y:nextY, z:nextZ:zDir] = segment\n",
    "        except Exception as e:\n",
    "            print(e)\n",
    "            print('ids:', x, nextX, xDir, '|', y, nextY, '|', z, nextZ, zDir)\n",
    "            print(structure[x:nextX:xDir, y:nextY, z:nextZ:zDir].shape)\n",
    "\n",
    "        # build along the same axis\n",
    "        if s0 > s2:\n",
    "            x = nextX\n",
    "        else:\n",
    "            z = nextZ\n",
    "    return structure\n",
    "\n",
    "mA = generateAnnotation(transitionsTable)\n",
    "print(mA)\n",
    "st = generateStructure(mA, segmentsDict)"
   ]
  },
  {
   "cell_type": "code",
   "execution_count": 6,
   "metadata": {},
   "outputs": [
    {
     "name": "stderr",
     "output_type": "stream",
     "text": [
      "100%|██████████| 500000/500000 [11:18<00:00, 736.62it/s]\n"
     ]
    }
   ],
   "source": [
    "from tqdm import tqdm\n",
    "artificial_structures = []\n",
    "for i in tqdm(range(500000)):\n",
    "    a = generateAnnotation(transitionsTable)\n",
    "    artificial_structures.append((generateStructure(a, segmentsDict), a))"
   ]
  },
  {
   "cell_type": "code",
   "execution_count": 8,
   "metadata": {},
   "outputs": [],
   "source": [
    "with open('artificial_structures.pkl', 'wb') as f:\n",
    "    pickle.dump(artificial_structures[:100000], f, protocol=pickle.HIGHEST_PROTOCOL)"
   ]
  }
 ],
 "metadata": {
  "kernelspec": {
   "display_name": "Python 3.9.13 64-bit",
   "language": "python",
   "name": "python3"
  },
  "language_info": {
   "codemirror_mode": {
    "name": "ipython",
    "version": 3
   },
   "file_extension": ".py",
   "mimetype": "text/x-python",
   "name": "python",
   "nbconvert_exporter": "python",
   "pygments_lexer": "ipython3",
   "version": "3.9.13"
  },
  "orig_nbformat": 4,
  "vscode": {
   "interpreter": {
    "hash": "949777d72b0d2535278d3dc13498b2535136f6dfe0678499012e853ee9abcab1"
   }
  }
 },
 "nbformat": 4,
 "nbformat_minor": 2
}
