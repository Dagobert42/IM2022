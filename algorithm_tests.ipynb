{
 "cells": [
  {
   "cell_type": "code",
   "execution_count": 2,
   "metadata": {},
   "outputs": [],
   "source": [
    "import os\n",
    "import io\n",
    "import numpy as np\n",
    "from numpy.random import rand\n",
    "import torch\n",
    "from torchsummary import summary\n",
    "import pickle\n",
    "import matplotlib.pyplot as plt\n",
    "import matplotlib.gridspec as gridspec\n",
    "import mpl_toolkits.mplot3d\n",
    "from minetest.adapter import *\n",
    "from colab.conv_gan_gp import *"
   ]
  },
  {
   "cell_type": "code",
   "execution_count": null,
   "metadata": {},
   "outputs": [
    {
     "data": {
      "text/plain": [
       "<All keys matched successfully>"
      ]
     },
     "execution_count": 1,
     "metadata": {},
     "output_type": "execute_result"
    }
   ],
   "source": [
    "# define model parameters\n",
    "output_shape = 16\n",
    "noise_dim = 200\n",
    "feature_dim = 64\n",
    "\n",
    "generator = ConvGenerator(noise_dim, feature_dim)\n",
    "discriminator = ConvDiscriminator(feature_dim, output_shape)\n",
    "\n",
    "G_PATH = os.getcwd() + '/models/states/02-10-2022-10-36-17_G.pth'\n",
    "D_PATH = os.getcwd() + '/models/states/ConvGAN18-09-2022-22-09-38_D.pth'\n",
    "generator.load_state_dict(torch.load(G_PATH, map_location=torch.device(\"cpu\")), strict=False)\n",
    "discriminator.load_state_dict(torch.load(D_PATH, map_location=torch.device(\"cpu\")), strict=False)\n",
    "\n",
    "summary(generator, (1, noise_dim))\n",
    "summary(discriminator, (1, output_shape, output_shape, output_shape))\n",
    "\n",
    "start_training(\n",
    "    generator,\n",
    "    discriminator,\n",
    "    data_path=\"segmentation_3d_data.pkl\",\n",
    "    learning_rate=0.0002,\n",
    "    n_epochs=200,\n",
    "    t=\"log_d\",\n",
    "    batch_size=64,\n",
    "    noise_dim=noise_dim\n",
    ")"
   ]
  },
  {
   "cell_type": "code",
   "execution_count": null,
   "metadata": {},
   "outputs": [],
   "source": [
    "with open(os.getcwd() + \"/dataset/output/structures.pkl\",'rb') as f:\n",
    "    data = pickle.load(f)\n",
    "mta = MinetestAdapter()\n",
    "mta.connect()"
   ]
  },
  {
   "cell_type": "code",
   "execution_count": null,
   "metadata": {},
   "outputs": [
    {
     "name": "stdout",
     "output_type": "stream",
     "text": [
      "(12, 16, 16, 16)\n"
     ]
    }
   ],
   "source": [
    "# value used for up-scaling data\n",
    "MAX_ID = 32.0\n",
    "\n",
    "# number of outputs to generate\n",
    "LATENT_VECTORS = 12\n",
    "\n",
    "generator.eval()\n",
    "x = torch.Tensor(LATENT_VECTORS, noise_dim).normal_(0.0, 1.0)\n",
    "s = np.fix(generator(x).detach().numpy().squeeze() * MAX_ID)\n",
    "print(s.shape)\n",
    "\n",
    "for i in range(LATENT_VECTORS):\n",
    "    mta.build(s[i], (i*20-40, 0, 0))"
   ]
  },
  {
   "cell_type": "code",
   "execution_count": null,
   "metadata": {},
   "outputs": [],
   "source": [
    "samples = np.random.rand(4, 16, 16, 16)\n",
    "\n",
    "plt.figure(figsize=(8, 4))\n",
    "gs = gridspec.GridSpec(1, 4)\n",
    "gs.update(wspace=0.05, hspace=0.05)\n",
    "plt.rcParams['figure.dpi'] = 300\n",
    "plt.rcParams['savefig.dpi'] = 300\n",
    "for i, sample in enumerate(samples):\n",
    "    x, y, z = sample.nonzero()\n",
    "    ax = plt.subplot(gs[i], projection='3d')\n",
    "    ax.scatter3D(x, y, z, zdir='z', c=sample[x,y,z], cmap='jet', marker=\"h\", alpha=0.7, linewidth=0.)\n",
    "    ax.axis('off')\n",
    "# plt.savefig(os.getcwd() + 'sample_@epoch{}.png'.format(str(1)))\n",
    "plt.show()\n",
    "plt.close()"
   ]
  },
  {
   "cell_type": "code",
   "execution_count": null,
   "metadata": {},
   "outputs": [],
   "source": [
    "class CPU_Unpickler(pickle.Unpickler):\n",
    "    def find_class(self, module, name):\n",
    "        if module == 'torch.storage' and name == '_load_from_bytes':\n",
    "            return lambda b: torch.load(io.BytesIO(b), map_location='cpu')\n",
    "        else: return super().find_class(module, name)"
   ]
  },
  {
   "cell_type": "code",
   "execution_count": null,
   "metadata": {},
   "outputs": [],
   "source": [
    "with open(os.getcwd() + '/models/logs/30-09-2022-17-35-19_log.pkl','rb') as f:\n",
    "    stats = CPU_Unpickler(f).load()\n",
    "\n",
    "x = list(range(len(stats['dl'])))\n",
    "fig, ax = plt.subplots()\n",
    "fig.set_figwidth(8)\n",
    "ax.plot(x, [val * 100 for val in stats['dl']], label='discriminator loss * 100')\n",
    "ax.plot(x, [val * 10 for val in stats['al']], label='adversarial loss * 10')\n",
    "ax.plot(x, stats['ra'], label='real accuracy')\n",
    "ax.plot(x, stats['fa'], label='fake accuracy')\n",
    "ax.plot(x, stats['ma'], label='mean accuracy')\n",
    "plt.ylim(0, 1.1)\n",
    "plt.xlim(0, 100)\n",
    "plt.legend(loc='lower left', bbox_to_anchor=(0.7, 0.2))\n",
    "\n",
    "ax.set(xlabel='epoch', title='ConvGAN Training - Binary Cross Entropy')\n",
    "ax.grid()\n",
    "\n",
    "fig.savefig(\"conv_gan_BCE_training.png\")\n",
    "plt.show()"
   ]
  },
  {
   "cell_type": "code",
   "execution_count": null,
   "metadata": {},
   "outputs": [],
   "source": [
    "with open(os.getcwd() + '/models/logs/02-10-2022-10-36-17_log.pkl','rb') as f:\n",
    "    stats = CPU_Unpickler(f).load()\n",
    "\n",
    "x = list(range(len(stats['dl'])))\n",
    "fig, ax = plt.subplots()\n",
    "fig.set_figwidth(16)\n",
    "ax.plot(x, [val * 10 for val in stats['dl']], label='discriminator loss * 100')\n",
    "ax.plot(x, [val * -100 for val in stats['al']], label='adversarial loss * -100')\n",
    "ax.plot(x, stats['ra'], label='real accuracy')\n",
    "ax.plot(x, stats['fa'], label='fake accuracy')\n",
    "ax.plot(x, stats['ma'], label='mean accuracy')\n",
    "plt.ylim(0, 1.1)\n",
    "plt.xlim(0, 200)\n",
    "plt.legend(loc='upper center', bbox_to_anchor=(0.5, -0.15), ncol=5)\n",
    "\n",
    "ax.set(xlabel='epoch', title='ConvGAN Training - Wasserstein Gradient Penalty')\n",
    "ax.grid()\n",
    "\n",
    "fig.savefig(\"conv_gan_WGP_training.png\")\n",
    "plt.show()"
   ]
  },
  {
   "cell_type": "code",
   "execution_count": null,
   "metadata": {},
   "outputs": [
    {
     "name": "stdout",
     "output_type": "stream",
     "text": [
      "[0.23538752 0.9114854  0.9910328 ]\n",
      "[1.1245997  0.07674543 0.00260577]\n",
      "[0.8 0.  0. ]\n"
     ]
    }
   ],
   "source": [
    "# label flip and noisify algorithm\n",
    "FLIP_CHANCE = 1.5\n",
    "NOISE_LEVEL = 0.4\n",
    "OFFSET = 0.8\n",
    "flips = np.floor(rand(3) * FLIP_CHANCE) * OFFSET\n",
    "real = rand(3).astype(np.float32) * NOISE_LEVEL + OFFSET\n",
    "fake = rand(3).astype(np.float32) * NOISE_LEVEL\n",
    "real -= flips\n",
    "fake += flips\n",
    "\n",
    "print(real)\n",
    "print(fake)\n",
    "print(flips)\n"
   ]
  }
 ],
 "metadata": {
  "kernelspec": {
   "display_name": "Python 3.9.13",
   "language": "python",
   "name": "python3"
  },
  "language_info": {
   "codemirror_mode": {
    "name": "ipython",
    "version": 3
   },
   "file_extension": ".py",
   "mimetype": "text/x-python",
   "name": "python",
   "nbconvert_exporter": "python",
   "pygments_lexer": "ipython3",
   "version": "3.9.13"
  },
  "orig_nbformat": 4,
  "vscode": {
   "interpreter": {
    "hash": "14723bc0fd3511e0d3225a4c0aec1f51ee02bdabe28ba6231e2c9b72e7bf1efb"
   }
  }
 },
 "nbformat": 4,
 "nbformat_minor": 2
}
